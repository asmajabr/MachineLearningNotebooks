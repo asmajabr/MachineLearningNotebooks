{
  "nbformat": 4,
  "nbformat_minor": 0,
  "metadata": {
    "colab": {
      "name": "Logistic.ipynb",
      "provenance": [],
      "private_outputs": true,
      "collapsed_sections": [
        "rY_DT_ZrIiYC"
      ],
      "toc_visible": true,
      "include_colab_link": true
    },
    "kernelspec": {
      "name": "python3",
      "display_name": "Python 3"
    }
  },
  "cells": [
    {
      "cell_type": "markdown",
      "metadata": {
        "id": "view-in-github",
        "colab_type": "text"
      },
      "source": [
        "<a href=\"https://colab.research.google.com/github/mkjubran/MachineLearningNotebooks/blob/master/Logistic.ipynb\" target=\"_parent\"><img src=\"https://colab.research.google.com/assets/colab-badge.svg\" alt=\"Open In Colab\"/></a>"
      ]
    },
    {
      "cell_type": "markdown",
      "metadata": {
        "id": "MzmEcNHzuBI3",
        "colab_type": "text"
      },
      "source": [
        "# Clone the Source GitHub Reporsitory \n",
        "We need to clone some source files to be used throughtout this tutorial from a GitHub reprository"
      ]
    },
    {
      "cell_type": "code",
      "metadata": {
        "id": "TmP4GrRNudXH",
        "colab_type": "code",
        "colab": {}
      },
      "source": [
        "!rm -rf ./MachineLearning\n",
        "!git clone https://github.com/mkjubran/MachineLearning.git"
      ],
      "execution_count": 0,
      "outputs": []
    },
    {
      "cell_type": "markdown",
      "metadata": {
        "id": "DIlzJbCpmo0R",
        "colab_type": "text"
      },
      "source": [
        "# Logistic Regression - Binary Classification\n",
        "**Introduction**\n",
        "\n",
        "In this section, "
      ]
    },
    {
      "cell_type": "markdown",
      "metadata": {
        "id": "JeQ0wuIc1AHR",
        "colab_type": "text"
      },
      "source": [
        "**Theory** \\\\\n",
        "\n",
        "One hot encoding is a process by which nominal categorical variables are converted into a form that could be provided to ML algorithms to do a better job in prediction.[1]\n",
        "\n",
        "Say suppose the dataset is as follows:\n",
        "\n",
        "City | Area| Price\n",
        "--- | --- | ---\n",
        "Jerusalem | 160 | 550000\n",
        "Jerusalem | 200 | 600000\n",
        "Jerusalem | 250 | 620000\n",
        "Ramallah | 160 | 200000\n",
        "Ramallah | 200 | 220000\n",
        "Ramallah | 240 | 300000\n",
        "Nablus | 160 | 150000\n",
        "Nablus | 230 | 180000\n",
        "Bethlehem | 160 | 160000\n",
        "Bethlehem | 210 | 180000\n",
        "\n",
        "\n"
      ]
    },
    {
      "cell_type": "markdown",
      "metadata": {
        "id": "_RSwASngm9_9",
        "colab_type": "text"
      },
      "source": [
        "**Implementation**\n",
        "\n",
        "Read the input data from a csv file called \"HoursPassExam.csv\" \\\\\n",
        "To read the data in the file, we will be using the pandas library (https://pandas.pydata.org/)."
      ]
    },
    {
      "cell_type": "code",
      "metadata": {
        "id": "fQX2iq_fnJOm",
        "colab_type": "code",
        "colab": {}
      },
      "source": [
        "import pandas as pd\n",
        "df = pd.read_csv(\"./MachineLearning/2_Logistic/HoursPassExam.csv\")\n",
        "print(df)"
      ],
      "execution_count": 0,
      "outputs": []
    },
    {
      "cell_type": "markdown",
      "metadata": {
        "id": "rJA9kY1o6_lr",
        "colab_type": "text"
      },
      "source": [
        "Use scatter plot from matplotlib to view the dataset"
      ]
    },
    {
      "cell_type": "code",
      "metadata": {
        "id": "ryh3BJOV7eo1",
        "colab_type": "code",
        "colab": {}
      },
      "source": [
        "import matplotlib.pyplot as plt\n",
        "plt.scatter(df['hours'],df['pass'],color = 'red', marker = '+')"
      ],
      "execution_count": 0,
      "outputs": []
    },
    {
      "cell_type": "markdown",
      "metadata": {
        "id": "39M2I3LU70dB",
        "colab_type": "text"
      },
      "source": [
        "As can be seen, the output is binary; 0 for failing the exam and 1 for passing the exam. Also, the chances of passing the exam increases when the number of studying for the exam increases."
      ]
    },
    {
      "cell_type": "markdown",
      "metadata": {
        "id": "mmmElAW4ch3u",
        "colab_type": "text"
      },
      "source": [
        "Let us try to use linear regresison to fit the data"
      ]
    },
    {
      "cell_type": "code",
      "metadata": {
        "id": "dtqBhjVN8Hgl",
        "colab_type": "code",
        "colab": {}
      },
      "source": [
        "from sklearn import linear_model\n",
        "reg = linear_model.LinearRegression()\n",
        "x = df[['hours']]\n",
        "y = df['pass']\n",
        "reg.fit(x,y)\n",
        "print(reg.coef_)\n",
        "print(reg.intercept_)\n",
        "print(reg.score(x,y))\n",
        "plt.scatter(x,y,color = 'red', marker = '+', label = 'Data')\n",
        "plt.plot(x,reg.predict(x) , label = 'Linear')\n",
        "plt.legend()\n",
        "plt.xlabel('Hourse')\n",
        "plt.ylabel('Pass Exam (0:pass,1:fail)')\n"
      ],
      "execution_count": 0,
      "outputs": []
    },
    {
      "cell_type": "markdown",
      "metadata": {
        "id": "3HHv5Gko8_20",
        "colab_type": "text"
      },
      "source": [
        "As can be observed from the figure, the linear regresison fails to fit the data (training accuracy ~= 50%). Let us try the logitic regression to fit the data."
      ]
    },
    {
      "cell_type": "code",
      "metadata": {
        "id": "sBkR7WTW9T7j",
        "colab_type": "code",
        "colab": {}
      },
      "source": [
        "from sklearn import linear_model\n",
        "logreg = linear_model.LogisticRegression()\n",
        "logreg.fit(x,y)\n",
        "print(logreg.coef_)\n",
        "print(logreg.intercept_)\n",
        "print(logreg.score(x,y))"
      ],
      "execution_count": 0,
      "outputs": []
    },
    {
      "cell_type": "markdown",
      "metadata": {
        "id": "ZplRx6NhjbWq",
        "colab_type": "text"
      },
      "source": [
        "The accuracy of the logistic regression about $86.67\\%$ which is higher than the linear regression. This means that the logitic regresison fit the data better. Let us plot the logitic regression curve."
      ]
    },
    {
      "cell_type": "code",
      "metadata": {
        "id": "KQ9X3woTjbhF",
        "colab_type": "code",
        "colab": {}
      },
      "source": [
        "plt.scatter(x,y,color = 'red', marker = '+', label = 'Data')\n",
        "plt.plot(x,reg.predict(x) , label = 'Linear')\n",
        "plt.xlabel('Hourse')\n",
        "plt.ylabel('Pass Exam (0:pass,1:fail)')\n",
        "\n",
        "import numpy as np\n",
        "x_sigmoid = np.sort(np.array(x),axis=0)\n",
        "##plot the logistic regression\n",
        "plt.plot(x_sigmoid,logreg.predict(pd.DataFrame(x_sigmoid)), label = 'Logitic', color ='orange')\n",
        "plt.legend()\n"
      ],
      "execution_count": 0,
      "outputs": []
    },
    {
      "cell_type": "markdown",
      "metadata": {
        "id": "-q33xV2b7Ab1",
        "colab_type": "text"
      },
      "source": [
        "We can observe from the above figure that the logistic regression curve (orange line) better fit the dataset as compared to the linear regression curve (blue line). Let us also plot the sigmoid curve on the same figure."
      ]
    },
    {
      "cell_type": "code",
      "metadata": {
        "id": "WXGkgz1S7Ak8",
        "colab_type": "code",
        "colab": {}
      },
      "source": [
        "plt.scatter(x,y,color = 'red', marker = '+', label = 'Data')\n",
        "plt.plot(x,reg.predict(x) , label = 'Linear')\n",
        "plt.xlabel('Hourse')\n",
        "plt.ylabel('Pass Exam (0:pass,1:fail)')\n",
        "\n",
        "import numpy as np\n",
        "x_sigmoid = np.sort(np.array(x),axis=0)\n",
        "##plot the logistic regression\n",
        "plt.plot(x_sigmoid,logreg.predict(pd.DataFrame(x_sigmoid)), label = 'Logitic', color ='orange')\n",
        "plt.legend()\n",
        "\n",
        "## plot the sigmoid function\n",
        "a=float(logreg.coef_)\n",
        "b=float(logreg.intercept_)\n",
        "y_sigmoid = [1 / ( 1 + math.exp(-1 * ( a * val + b ))) for val in x_sigmoid]\n",
        "plt.plot(x_sigmoid,y_sigmoid, label = 'Sigmoid', color ='green')\n",
        "plt.grid()\n",
        "plt.legend()"
      ],
      "execution_count": 0,
      "outputs": []
    },
    {
      "cell_type": "markdown",
      "metadata": {
        "id": "Yg0bQjS5CMlB",
        "colab_type": "text"
      },
      "source": [
        "Alternatively, we could clean the data frame by dropping the not needed fields from the data frame and then define the inout variables to the modelas "
      ]
    },
    {
      "cell_type": "code",
      "metadata": {
        "id": "eCfpxkOSCuRq",
        "colab_type": "code",
        "colab": {}
      },
      "source": [
        "x= df_merge.drop(['Ramallah','city','price'],axis=1)\n",
        "print(x)\n",
        "y = df_merge.price\n",
        "print(y)"
      ],
      "execution_count": 0,
      "outputs": []
    },
    {
      "cell_type": "markdown",
      "metadata": {
        "id": "-eXLcFhJE1DU",
        "colab_type": "text"
      },
      "source": [
        "To train the model using x and y:"
      ]
    },
    {
      "cell_type": "code",
      "metadata": {
        "id": "oaa_QikPEzwz",
        "colab_type": "code",
        "colab": {}
      },
      "source": [
        "regm.fit(x,y)\n",
        "print(regm.coef_) ## print the coefficients\n",
        "print(regm.intercept_) ## print the intercept"
      ],
      "execution_count": 0,
      "outputs": []
    },
    {
      "cell_type": "markdown",
      "metadata": {
        "id": "Zd0a13CuAMmf",
        "colab_type": "text"
      },
      "source": [
        "The model is now ready. To estimate the price of a new house in Ramallah with an area of 190 $m^2$, we apply it to the model as follows:"
      ]
    },
    {
      "cell_type": "code",
      "metadata": {
        "id": "nuvM1TH8Anv1",
        "colab_type": "code",
        "colab": {}
      },
      "source": [
        "regm.predict([[190,0,0,0]])"
      ],
      "execution_count": 0,
      "outputs": []
    },
    {
      "cell_type": "markdown",
      "metadata": {
        "id": "gV6Pc0FJL7AG",
        "colab_type": "text"
      },
      "source": [
        "The price of a house with 190 m^2 in Ramallah is about $232112. Let us next compare the prices of houses of the same size (area) in different cities. Use the city code based on the one hot coding shwon in output cell [37]. "
      ]
    },
    {
      "cell_type": "code",
      "metadata": {
        "id": "Fv4n1EhxMVK7",
        "colab_type": "code",
        "colab": {}
      },
      "source": [
        "x_new=[[190,1,0,0],[190,0,1,0],[190,0,0,1],[190,0,0,0]]\n",
        "regm.predict(x_new)"
      ],
      "execution_count": 0,
      "outputs": []
    },
    {
      "cell_type": "markdown",
      "metadata": {
        "id": "Sio0MGhXM5KO",
        "colab_type": "text"
      },
      "source": [
        "So the prices of houses with an area of 190 $m^2$ is as follows:\n",
        "\n",
        "City | Price\n",
        "--- | ---\n",
        "Bethlehem | 173943.76899694 \n",
        "Jerusalem | 579483.28267475\n",
        "Nablus | 161056.23100302\n",
        "Ramallah | 232112.46200606"
      ]
    },
    {
      "cell_type": "markdown",
      "metadata": {
        "id": "ggh_Kpl9j9dr",
        "colab_type": "text"
      },
      "source": [
        "What about the accuracy of the model. We can view the accuracy of the model by printing the score as"
      ]
    },
    {
      "cell_type": "code",
      "metadata": {
        "id": "VxujdNZDkIvZ",
        "colab_type": "code",
        "colab": {}
      },
      "source": [
        "regm.score(x,y)"
      ],
      "execution_count": 0,
      "outputs": []
    },
    {
      "cell_type": "markdown",
      "metadata": {
        "id": "vWJlXJcokudK",
        "colab_type": "text"
      },
      "source": [
        "The accuracy of the model is about $99.403\\%$. This is called the training accuracy because the data used for training is used to computed the model accuracy. Having high training accuracy means the model fitted the training data very well and the relationship of the training data is linear. However, we need to measure the accuracy of the model to predict the prices of new data not used for training. This will be discussed in the next section."
      ]
    },
    {
      "cell_type": "markdown",
      "metadata": {
        "id": "8rFQOBBCtqlE",
        "colab_type": "text"
      },
      "source": [
        "**Exercise**\n",
        "\n",
        "Use multiple linear regression to estimate the prices of the following cars:\n",
        "\n",
        "Specifications | Car #1 | Car #2 | Car #3\n",
        "-- | --- | --- | ---\n",
        "Make    |  BMW | Audi | Nissan\n",
        "Model    | 1 Series M | 100 | 370z\n",
        "Year      |      2011 | 1992 | 2106\n",
        "Engine Fuel Type|  premium unleaded (required) | regular unleaded | premium unleaded (required)\n",
        "Engine HP        |   335 |172 | 332\n",
        "Engine Cylinders  |   6 | 6 | 6\n",
        "Transmission Type  |   MANUAL | MANUAL | MANUAL\n",
        "Driven_Wheels      |  rear wheel drive | all wheel drive | rear wheel drive\n",
        "Number of Doors    |    2 | 4 | 2\n",
        "Market Category    |  Factory Tuner,Luxury,High-Performance | Luxury | High-Performance\n",
        "Vehicle Size       |   Compact | Midsize | Compact\n",
        "Vehicle Style      |    Coupe | Sedan | Coupe\n",
        "highway MPG        |     26 | 21 | 26\n",
        "city mpg           |     19 | 16 | 18\n",
        "Popularity         |   3916 | 3105 | 2009\n",
        "\n",
        "You may use a subset of the car features to train and predict prices. We will use the data set in the 'CarPrices.csv' file in the Github repository to train the model. This data set is downloaded from kaggle. $^{[1]}$ \n",
        "\n",
        "\n",
        "[1] https://www.kaggle.com/CooperUnion/cardataset/data"
      ]
    },
    {
      "cell_type": "markdown",
      "metadata": {
        "id": "KtH_ZryIZOGc",
        "colab_type": "text"
      },
      "source": [
        "To read and view specific row of the data set, use the following code:"
      ]
    },
    {
      "cell_type": "code",
      "metadata": {
        "id": "eJ3KaBA0UvWV",
        "colab_type": "code",
        "colab": {}
      },
      "source": [
        "import pandas as pd\n",
        "df_cars = pd.read_csv(\"./MachineLearning/1_Regression/carsdataset.csv\")\n",
        "row=100\n",
        "print(df_cars.loc[row,:])"
      ],
      "execution_count": 0,
      "outputs": []
    },
    {
      "cell_type": "markdown",
      "metadata": {
        "id": "rY_DT_ZrIiYC",
        "colab_type": "text"
      },
      "source": [
        "# Model Accuracy\n",
        "\n",
        "In this section, we will learn how to measure the accuracy of a model. This requires splitting the available dataset into a training dataset and testing dataset. The training dataset will be used to derive the coefficients of the model. whereas the testing dataset will be used to measure the model accuracy which is sometimes referred to as testing accuracy."
      ]
    },
    {
      "cell_type": "markdown",
      "metadata": {
        "id": "TTjGIsgEMl1l",
        "colab_type": "text"
      },
      "source": [
        "In this section, we will use part of the cars dataset used in the exercise above. This dataset is stored in the 'carsdataset_short.csv' in the repository."
      ]
    },
    {
      "cell_type": "markdown",
      "metadata": {
        "id": "WZJ5BZRTNFXi",
        "colab_type": "text"
      },
      "source": [
        "To load the dataset we will use the panda library as before."
      ]
    },
    {
      "cell_type": "code",
      "metadata": {
        "id": "u0SRCu49NMxb",
        "colab_type": "code",
        "colab": {}
      },
      "source": [
        "import pandas as pd\n",
        "cars = pd.read_csv(\"./MachineLearning/1_Regression/carsdataset_short.csv\")\n",
        "print(cars)"
      ],
      "execution_count": 0,
      "outputs": []
    },
    {
      "cell_type": "markdown",
      "metadata": {
        "id": "51swnXPKQVvL",
        "colab_type": "text"
      },
      "source": [
        "Now we will use one hot coding to represent the car make as follows:"
      ]
    },
    {
      "cell_type": "code",
      "metadata": {
        "id": "7HVX9z_jQhEg",
        "colab_type": "code",
        "colab": {}
      },
      "source": [
        "CarMake = pd.get_dummies(cars.Make)\n",
        "cars_merge = pd.concat([cars, CarMake], axis=1)\n",
        "x = cars_merge.drop(['Make','price','Mercedes-Benz'],axis=1)\n",
        "y = cars_merge.price\n",
        "print(x)\n",
        "print(y)"
      ],
      "execution_count": 0,
      "outputs": []
    },
    {
      "cell_type": "markdown",
      "metadata": {
        "id": "8h5eUBGBP1Xf",
        "colab_type": "text"
      },
      "source": [
        "Now, we need to split the datset into training and testing datsets. We will use 80% of the dataset for training and the rest will be used for testing. "
      ]
    },
    {
      "cell_type": "code",
      "metadata": {
        "id": "oCmJEuybQFYZ",
        "colab_type": "code",
        "colab": {}
      },
      "source": [
        "from sklearn.model_selection import train_test_split\n",
        "x_train, x_test, y_train, y_test = train_test_split(x,y,test_size=0.2)\n",
        "print(len(x))\n",
        "print(len(x_train))\n",
        "print(len(x_test))\n"
      ],
      "execution_count": 0,
      "outputs": []
    },
    {
      "cell_type": "markdown",
      "metadata": {
        "id": "zkZNw0hfTOnV",
        "colab_type": "text"
      },
      "source": [
        "next we will train the linear regresison model using the training dataset as"
      ]
    },
    {
      "cell_type": "code",
      "metadata": {
        "id": "rmM1vi8NTV38",
        "colab_type": "code",
        "colab": {}
      },
      "source": [
        "from sklearn import linear_model\n",
        "regm = linear_model.LinearRegression()\n",
        "regm.fit(x_train,y_train)\n",
        "print(regm.coef_) ## print the coefficients\n",
        "print(regm.intercept_) ## print the intercept"
      ],
      "execution_count": 0,
      "outputs": []
    },
    {
      "cell_type": "markdown",
      "metadata": {
        "id": "zIE3594bT8LI",
        "colab_type": "text"
      },
      "source": [
        "We will use the model now to predict the prices of the test datset"
      ]
    },
    {
      "cell_type": "code",
      "metadata": {
        "id": "AEBluiFpUJzn",
        "colab_type": "code",
        "colab": {}
      },
      "source": [
        "price_test = regm.predict(x_test)\n",
        "print(price_test)"
      ],
      "execution_count": 0,
      "outputs": []
    },
    {
      "cell_type": "markdown",
      "metadata": {
        "id": "gdc7rVxNjyRl",
        "colab_type": "text"
      },
      "source": [
        "To combine the actual prices of the test data sets and the predicted prices for observation use the following "
      ]
    },
    {
      "cell_type": "code",
      "metadata": {
        "id": "wlzTMWN-jzGZ",
        "colab_type": "code",
        "colab": {}
      },
      "source": [
        "y_test_pred = pd.DataFrame.copy(y_test)\n",
        "y_test_pred = y_test_pred.to_frame()\n",
        "y_test_pred['pprice'] = price_test\n",
        "y_test_pred['difference'] = y_test_pred['price'] - y_test_pred['pprice']\n",
        "print(y_test_pred)"
      ],
      "execution_count": 0,
      "outputs": []
    },
    {
      "cell_type": "markdown",
      "metadata": {
        "id": "3yeL9tHUUZyx",
        "colab_type": "text"
      },
      "source": [
        "The model accuracy can be obtained as follows"
      ]
    },
    {
      "cell_type": "code",
      "metadata": {
        "id": "pJcak-QoUmbF",
        "colab_type": "code",
        "colab": {}
      },
      "source": [
        "#training accuracy\n",
        "Acc_train = regm.score(x_train,y_train)\n",
        "print(Acc_train)\n",
        "#testing accuracy\n",
        "Acc_test = regm.score(x_test,y_test)\n",
        "print(Acc_test)"
      ],
      "execution_count": 0,
      "outputs": []
    },
    {
      "cell_type": "markdown",
      "metadata": {
        "id": "zCcKv8lxVCbB",
        "colab_type": "text"
      },
      "source": [
        "As expected, the training accuracy is greater than the testing accuracy. A high training accuracy means that the model fits very well hr training data and a high testing accuracy means that the model can be generalized to other samples or datasets."
      ]
    }
  ]
}